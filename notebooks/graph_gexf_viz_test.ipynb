{
 "cells": [
  {
   "cell_type": "markdown",
   "metadata": {},
   "source": [
    "# Graph GEXF Viz"
   ]
  },
  {
   "cell_type": "code",
   "execution_count": null,
   "metadata": {},
   "outputs": [],
   "source": [
    "import $ivy.`org.apache.spark::spark-sql:2.3.1`\n",
    "import $ivy.`sh.almond::almond-spark:0.6.0`\n",
    "\n",
    "import org.apache.spark.sql._\n",
    "\n",
    "import org.apache.log4j.{Level, Logger}\n",
    "import org.apache.spark.rdd.RDD\n",
    "import org.apache.spark.{SparkConf, SparkContext}"
   ]
  },
  {
   "cell_type": "code",
   "execution_count": null,
   "metadata": {
    "scrolled": true
   },
   "outputs": [],
   "source": [
    "Logger.getLogger(\"org\").setLevel(Level.OFF)"
   ]
  },
  {
   "cell_type": "code",
   "execution_count": null,
   "metadata": {},
   "outputs": [],
   "source": [
    "val spark = {\n",
    "  NotebookSparkSession\n",
    "    .builder()\n",
    "    .master(\"local[*]\")\n",
    "    .getOrCreate()\n",
    "}"
   ]
  },
  {
   "cell_type": "code",
   "execution_count": null,
   "metadata": {},
   "outputs": [],
   "source": [
    "def sc = spark\n",
    "    .sparkContext"
   ]
  },
  {
   "cell_type": "code",
   "execution_count": null,
   "metadata": {},
   "outputs": [],
   "source": [
    "def generateGraphRDD(context: SparkContext, inputFile: String, separator: String): RDD[(String, Iterable[String])] = {\n",
    "    val graph = context.textFile(inputFile)\n",
    "        .map { line => val tokens = line.split(separator)\n",
    "            (tokens(0), tokens(1))\n",
    "        }\n",
    "        .groupByKey()\n",
    "        .cache()\n",
    "\n",
    "    graph\n",
    "}"
   ]
  },
  {
   "cell_type": "code",
   "execution_count": null,
   "metadata": {},
   "outputs": [],
   "source": [
    "val GraphRDD = generateGraphRDD(sc, \"../input/test_input.txt\", \" \")"
   ]
  },
  {
   "cell_type": "code",
   "execution_count": null,
   "metadata": {},
   "outputs": [],
   "source": [
    "GraphRDD.foreach(println)"
   ]
  },
  {
   "cell_type": "code",
   "execution_count": null,
   "metadata": {},
   "outputs": [],
   "source": [
    "// adapted from 4.3.3. GEXF format for Gephi visualization software\n",
    "// https://livebook.manning.com/book/spark-graphx-in-action/chapter-4/ch04lev2sec6\n",
    "// https://livebook.manning.com/book/spark-graphx-in-action/chapter-4/point-9169-150-150-0\n",
    "\n",
    "def toGexf[VD,ED](g:Graph[VD,ED]) =\n",
    "    \"<?xml version=\\\"1.0\\\" encoding=\\\"UTF-8\\\"?>\\n\" +\n",
    "    \"<gexf xmlns=\\\"http://www.gexf.net/1.2draft\\\" version=\\\"1.2\\\">\\n\" +\n",
    "    \"  <graph mode=\\\"static\\\" defaultedgetype=\\\"directed\\\">\\n\" +\n",
    "    \"    <nodes>\\n\" + g.vertices.map(v => \n",
    "    \"     <node id=\\\"\" + v._1 + \"\\\" label=\\\"\" + v._2 + \"\\\" />\\n\").collect.mkString +\n",
    "    \"    </nodes>\\n\" +\n",
    "    \"    <edges>\\n\" + g.edges.map(e => \n",
    "    \"      <edge source=\\\"\" + e.srcId + \"\\\" target=\\\"\" + e.dstId + \"\\\" label=\\\"\" + e.attr +\"\\\" />\\n\").collect.mkString +\n",
    "    \"    </edges>\\n\" +\n",
    "    \"  </graph>\\n\" +\n",
    "    \"</gexf>\""
   ]
  },
  {
   "cell_type": "code",
   "execution_count": null,
   "metadata": {},
   "outputs": [],
   "source": [
    "// import $ivy.`it.uniroma1.dis.wsngroup.gexf4j::gexf4j:1.0.0`\n",
    "// import $ivy.`it.uniroma1.dis.wsngroup.gexf4j:gexf4j:jar:1.0.0`"
   ]
  },
  {
   "cell_type": "code",
   "execution_count": null,
   "metadata": {},
   "outputs": [],
   "source": [
    "// import it.uniroma1.dis.wsngroup.gexf4j.core.Graph"
   ]
  },
  {
   "cell_type": "code",
   "execution_count": null,
   "metadata": {},
   "outputs": [],
   "source": [
    "// import coursier.core.Authentication, coursier.MavenRepository\n",
    "// interp.repositories() ++= Seq(MavenRepository(\n",
    "//    \"https://mvnrepository.com/artifact/it.uniroma1.dis.wsngroup.gexf4j/gexf4j\"\n",
    "// ))\n",
    "// // libraryDependencies += \"it.uniroma1.dis.wsngroup.gexf4j\" % \"gexf4j\" % \"1.0.0\""
   ]
  }
 ],
 "metadata": {
  "kernelspec": {
   "display_name": "Scala 2.11",
   "language": "scala",
   "name": "scala211"
  },
  "language_info": {
   "codemirror_mode": "text/x-scala",
   "file_extension": ".scala",
   "mimetype": "text/x-scala",
   "name": "scala",
   "nbconvert_exporter": "script",
   "version": "2.11.12"
  }
 },
 "nbformat": 4,
 "nbformat_minor": 2
}
